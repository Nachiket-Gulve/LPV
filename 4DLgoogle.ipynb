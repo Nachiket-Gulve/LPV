{
 "cells": [
  {
   "cell_type": "code",
   "execution_count": 1,
   "metadata": {
    "id": "GI-O80mz1ZiV"
   },
   "outputs": [],
   "source": [
    "import numpy as np \n",
    "import pandas as pd \n",
    "import matplotlib.pyplot as plt \n",
    "from sklearn.preprocessing import MinMaxScaler\n",
    "from keras.models import Sequential\n",
    "from keras.layers import Dense,LSTM,Dropout"
   ]
  },
  {
   "cell_type": "code",
   "execution_count": 2,
   "metadata": {
    "colab": {
     "base_uri": "https://localhost:8080/",
     "height": 206
    },
    "id": "BzkDYb7F1ZiX",
    "outputId": "89ffe368-980b-4a40-dac3-01fa643764d5"
   },
   "outputs": [
    {
     "data": {
      "text/html": [
       "<div>\n",
       "<style scoped>\n",
       "    .dataframe tbody tr th:only-of-type {\n",
       "        vertical-align: middle;\n",
       "    }\n",
       "\n",
       "    .dataframe tbody tr th {\n",
       "        vertical-align: top;\n",
       "    }\n",
       "\n",
       "    .dataframe thead th {\n",
       "        text-align: right;\n",
       "    }\n",
       "</style>\n",
       "<table border=\"1\" class=\"dataframe\">\n",
       "  <thead>\n",
       "    <tr style=\"text-align: right;\">\n",
       "      <th></th>\n",
       "      <th>Date</th>\n",
       "      <th>Open</th>\n",
       "      <th>High</th>\n",
       "      <th>Low</th>\n",
       "      <th>Close</th>\n",
       "      <th>Volume</th>\n",
       "    </tr>\n",
       "  </thead>\n",
       "  <tbody>\n",
       "    <tr>\n",
       "      <th>0</th>\n",
       "      <td>1/3/2012</td>\n",
       "      <td>325.25</td>\n",
       "      <td>332.83</td>\n",
       "      <td>324.97</td>\n",
       "      <td>663.59</td>\n",
       "      <td>7,380,500</td>\n",
       "    </tr>\n",
       "    <tr>\n",
       "      <th>1</th>\n",
       "      <td>1/4/2012</td>\n",
       "      <td>331.27</td>\n",
       "      <td>333.87</td>\n",
       "      <td>329.08</td>\n",
       "      <td>666.45</td>\n",
       "      <td>5,749,400</td>\n",
       "    </tr>\n",
       "    <tr>\n",
       "      <th>2</th>\n",
       "      <td>1/5/2012</td>\n",
       "      <td>329.83</td>\n",
       "      <td>330.75</td>\n",
       "      <td>326.89</td>\n",
       "      <td>657.21</td>\n",
       "      <td>6,590,300</td>\n",
       "    </tr>\n",
       "    <tr>\n",
       "      <th>3</th>\n",
       "      <td>1/6/2012</td>\n",
       "      <td>328.34</td>\n",
       "      <td>328.77</td>\n",
       "      <td>323.68</td>\n",
       "      <td>648.24</td>\n",
       "      <td>5,405,900</td>\n",
       "    </tr>\n",
       "    <tr>\n",
       "      <th>4</th>\n",
       "      <td>1/9/2012</td>\n",
       "      <td>322.04</td>\n",
       "      <td>322.29</td>\n",
       "      <td>309.46</td>\n",
       "      <td>620.76</td>\n",
       "      <td>11,688,800</td>\n",
       "    </tr>\n",
       "  </tbody>\n",
       "</table>\n",
       "</div>"
      ],
      "text/plain": [
       "       Date    Open    High     Low   Close      Volume\n",
       "0  1/3/2012  325.25  332.83  324.97  663.59   7,380,500\n",
       "1  1/4/2012  331.27  333.87  329.08  666.45   5,749,400\n",
       "2  1/5/2012  329.83  330.75  326.89  657.21   6,590,300\n",
       "3  1/6/2012  328.34  328.77  323.68  648.24   5,405,900\n",
       "4  1/9/2012  322.04  322.29  309.46  620.76  11,688,800"
      ]
     },
     "execution_count": 2,
     "metadata": {},
     "output_type": "execute_result"
    }
   ],
   "source": [
    "data = pd.read_csv('Google_train_data.csv')\n",
    "data.head()"
   ]
  },
  {
   "cell_type": "code",
   "execution_count": 3,
   "metadata": {
    "colab": {
     "base_uri": "https://localhost:8080/"
    },
    "id": "3KiWD9jr1ZiX",
    "outputId": "b8d26d62-53a1-4424-cba8-6e304bfd151c"
   },
   "outputs": [
    {
     "name": "stdout",
     "output_type": "stream",
     "text": [
      "<class 'pandas.core.frame.DataFrame'>\n",
      "RangeIndex: 1258 entries, 0 to 1257\n",
      "Data columns (total 6 columns):\n",
      " #   Column  Non-Null Count  Dtype  \n",
      "---  ------  --------------  -----  \n",
      " 0   Date    1258 non-null   object \n",
      " 1   Open    1258 non-null   float64\n",
      " 2   High    1258 non-null   float64\n",
      " 3   Low     1258 non-null   float64\n",
      " 4   Close   1258 non-null   object \n",
      " 5   Volume  1258 non-null   object \n",
      "dtypes: float64(3), object(3)\n",
      "memory usage: 59.1+ KB\n"
     ]
    }
   ],
   "source": [
    "data.info()"
   ]
  },
  {
   "cell_type": "code",
   "execution_count": 4,
   "metadata": {
    "id": "lhjw3juE1ZiY"
   },
   "outputs": [],
   "source": [
    "data[\"Close\"]=pd.to_numeric(data.Close,errors='coerce')\n",
    "data = data.dropna()\n",
    "trainData = data.iloc[:,4:5].values"
   ]
  },
  {
   "cell_type": "code",
   "execution_count": 5,
   "metadata": {
    "colab": {
     "base_uri": "https://localhost:8080/"
    },
    "id": "GBWXb8Qb1ZiY",
    "outputId": "65ecee7b-f6ea-4655-c23f-88988c59b833"
   },
   "outputs": [
    {
     "name": "stdout",
     "output_type": "stream",
     "text": [
      "<class 'pandas.core.frame.DataFrame'>\n",
      "Int64Index: 1149 entries, 0 to 1257\n",
      "Data columns (total 6 columns):\n",
      " #   Column  Non-Null Count  Dtype  \n",
      "---  ------  --------------  -----  \n",
      " 0   Date    1149 non-null   object \n",
      " 1   Open    1149 non-null   float64\n",
      " 2   High    1149 non-null   float64\n",
      " 3   Low     1149 non-null   float64\n",
      " 4   Close   1149 non-null   float64\n",
      " 5   Volume  1149 non-null   object \n",
      "dtypes: float64(4), object(2)\n",
      "memory usage: 62.8+ KB\n"
     ]
    }
   ],
   "source": [
    "data.info()"
   ]
  },
  {
   "cell_type": "code",
   "execution_count": 6,
   "metadata": {
    "colab": {
     "base_uri": "https://localhost:8080/"
    },
    "id": "8NsdLhlD1ZiY",
    "outputId": "42bd361d-89b2-4a1f-ae8f-448172d9b060"
   },
   "outputs": [
    {
     "data": {
      "text/plain": [
       "(1149, 1)"
      ]
     },
     "execution_count": 6,
     "metadata": {},
     "output_type": "execute_result"
    }
   ],
   "source": [
    "sc = MinMaxScaler(feature_range=(0,1))\n",
    "trainData = sc.fit_transform(trainData)\n",
    "trainData.shape"
   ]
  },
  {
   "cell_type": "code",
   "execution_count": 7,
   "metadata": {
    "id": "x_wIYl681ZiZ"
   },
   "outputs": [],
   "source": [
    "X_train = []\n",
    "y_train = []\n",
    "\n",
    "for i in range (60,1149): #60 : timestep // 1149 : length of the data\n",
    "    X_train.append(trainData[i-60:i,0]) \n",
    "    y_train.append(trainData[i,0])\n",
    "\n",
    "X_train,y_train = np.array(X_train),np.array(y_train)"
   ]
  },
  {
   "cell_type": "code",
   "execution_count": 8,
   "metadata": {
    "colab": {
     "base_uri": "https://localhost:8080/"
    },
    "id": "tFkfYIiK1ZiZ",
    "outputId": "6f21d2ba-fbfe-45df-9867-001cd2ebbdcb"
   },
   "outputs": [
    {
     "data": {
      "text/plain": [
       "(1089, 60, 1)"
      ]
     },
     "execution_count": 8,
     "metadata": {},
     "output_type": "execute_result"
    }
   ],
   "source": [
    "X_train = np.reshape(X_train,(X_train.shape[0],X_train.shape[1],1)) #adding the batch_size axis\n",
    "X_train.shape"
   ]
  },
  {
   "cell_type": "code",
   "execution_count": 9,
   "metadata": {
    "id": "t1YT3DqW1Zia"
   },
   "outputs": [],
   "source": [
    "model = Sequential()\n",
    "\n",
    "model.add(LSTM(units=100, return_sequences = True, input_shape =(X_train.shape[1],1)))\n",
    "model.add(Dropout(0.2))\n",
    "\n",
    "model.add(LSTM(units=100, return_sequences = True))\n",
    "model.add(Dropout(0.2))\n",
    "\n",
    "model.add(LSTM(units=100, return_sequences = True))\n",
    "model.add(Dropout(0.2))\n",
    "\n",
    "model.add(LSTM(units=100, return_sequences = False))\n",
    "model.add(Dropout(0.2))\n",
    "\n",
    "model.add(Dense(units =1))\n",
    "model.compile(optimizer='adam',loss=\"mean_squared_error\")"
   ]
  },
  {
   "cell_type": "code",
   "execution_count": 10,
   "metadata": {
    "colab": {
     "base_uri": "https://localhost:8080/"
    },
    "id": "oSyNuO0s1Zia",
    "outputId": "9aa87d25-17e8-440f-f2e6-a957a87bb4e1"
   },
   "outputs": [
    {
     "name": "stdout",
     "output_type": "stream",
     "text": [
      "Epoch 1/20\n",
      "35/35 - 14s - loss: 0.0379 - 14s/epoch - 408ms/step\n",
      "Epoch 2/20\n",
      "35/35 - 6s - loss: 0.0115 - 6s/epoch - 184ms/step\n",
      "Epoch 3/20\n",
      "35/35 - 6s - loss: 0.0089 - 6s/epoch - 166ms/step\n",
      "Epoch 4/20\n",
      "35/35 - 6s - loss: 0.0077 - 6s/epoch - 170ms/step\n",
      "Epoch 5/20\n",
      "35/35 - 6s - loss: 0.0086 - 6s/epoch - 183ms/step\n",
      "Epoch 6/20\n",
      "35/35 - 6s - loss: 0.0084 - 6s/epoch - 179ms/step\n",
      "Epoch 7/20\n",
      "35/35 - 7s - loss: 0.0140 - 7s/epoch - 197ms/step\n",
      "Epoch 8/20\n",
      "35/35 - 8s - loss: 0.0067 - 8s/epoch - 219ms/step\n",
      "Epoch 9/20\n",
      "35/35 - 8s - loss: 0.0065 - 8s/epoch - 222ms/step\n",
      "Epoch 10/20\n",
      "35/35 - 8s - loss: 0.0062 - 8s/epoch - 221ms/step\n",
      "Epoch 11/20\n",
      "35/35 - 7s - loss: 0.0067 - 7s/epoch - 192ms/step\n",
      "Epoch 12/20\n",
      "35/35 - 9s - loss: 0.0058 - 9s/epoch - 259ms/step\n",
      "Epoch 13/20\n",
      "35/35 - 11s - loss: 0.0063 - 11s/epoch - 315ms/step\n",
      "Epoch 14/20\n",
      "35/35 - 10s - loss: 0.0061 - 10s/epoch - 274ms/step\n",
      "Epoch 15/20\n",
      "35/35 - 9s - loss: 0.0051 - 9s/epoch - 270ms/step\n",
      "Epoch 16/20\n",
      "35/35 - 13s - loss: 0.0052 - 13s/epoch - 358ms/step\n",
      "Epoch 17/20\n",
      "35/35 - 12s - loss: 0.0050 - 12s/epoch - 334ms/step\n",
      "Epoch 18/20\n",
      "35/35 - 9s - loss: 0.0054 - 9s/epoch - 249ms/step\n",
      "Epoch 19/20\n",
      "35/35 - 9s - loss: 0.0052 - 9s/epoch - 271ms/step\n",
      "Epoch 20/20\n",
      "35/35 - 9s - loss: 0.0043 - 9s/epoch - 247ms/step\n"
     ]
    }
   ],
   "source": [
    "hist = model.fit(X_train, y_train, epochs = 20, batch_size = 32, verbose=2)"
   ]
  },
  {
   "cell_type": "code",
   "execution_count": 11,
   "metadata": {
    "colab": {
     "base_uri": "https://localhost:8080/",
     "height": 472
    },
    "id": "JczBU-oo1Zia",
    "outputId": "eda8f6b0-3c9b-4073-ebab-a80e34a911c9"
   },
   "outputs": [
    {
     "data": {
      "image/png": "[encoded data removed]",
      "text/plain": [
       "<Figure size 432x288 with 1 Axes>"
      ]
     },
     "metadata": {
      "needs_background": "light"
     },
     "output_type": "display_data"
    }
   ],
   "source": [
    "plt.plot(hist.history['loss'])\n",
    "plt.title('Training model loss')\n",
    "plt.ylabel('loss')\n",
    "plt.xlabel('epoch')\n",
    "plt.legend(['train'], loc='upper left')\n",
    "plt.show()"
   ]
  },
  {
   "cell_type": "code",
   "execution_count": 12,
   "metadata": {
    "colab": {
     "base_uri": "https://localhost:8080/"
    },
    "id": "ttFzVXFn1Zib",
    "outputId": "d53dfc69-29bf-423e-ab1b-87e5fa26660c"
   },
   "outputs": [
    {
     "data": {
      "text/plain": [
       "(192, 60, 1)"
      ]
     },
     "execution_count": 12,
     "metadata": {},
     "output_type": "execute_result"
    }
   ],
   "source": [
    "testData = pd.read_csv('Google_test_data.csv')\n",
    "testData[\"Close\"]=pd.to_numeric(testData.Close,errors='coerce')\n",
    "testData = testData.dropna()\n",
    "testData = testData.iloc[:,4:5]\n",
    "y_test = testData.iloc[60:,0:].values \n",
    "#input array for the model\n",
    "inputClosing = testData.iloc[:,0:].values \n",
    "inputClosing_scaled = sc.transform(inputClosing)\n",
    "inputClosing_scaled.shape\n",
    "X_test = []\n",
    "length = len(testData)\n",
    "timestep = 60\n",
    "for i in range(timestep,length):  \n",
    "    X_test.append(inputClosing_scaled[i-timestep:i,0])\n",
    "X_test = np.array(X_test)\n",
    "X_test = np.reshape(X_test,(X_test.shape[0],X_test.shape[1],1))\n",
    "X_test.shape"
   ]
  },
  {
   "cell_type": "code",
   "execution_count": 13,
   "metadata": {
    "colab": {
     "base_uri": "https://localhost:8080/"
    },
    "id": "oQ6dEDMo1Zic",
    "outputId": "21e1da12-65d5-47a5-9dc4-d31d1c8cb0a9"
   },
   "outputs": [
    {
     "name": "stdout",
     "output_type": "stream",
     "text": [
      "6/6 [==============================] - 2s 52ms/step\n"
     ]
    },
    {
     "data": {
      "text/plain": [
       "array([[1.2274202],\n",
       "       [1.2304496],\n",
       "       [1.2418034],\n",
       "       [1.2592663],\n",
       "       [1.2749076],\n",
       "       [1.2787952],\n",
       "       [1.2698696],\n",
       "       [1.2543287],\n",
       "       [1.2424779],\n",
       "       [1.2374458],\n",
       "       [1.2297989],\n",
       "       [1.2183084],\n",
       "       [1.2074931],\n",
       "       [1.1973197],\n",
       "       [1.193621 ],\n",
       "       [1.1964576],\n",
       "       [1.2123127],\n",
       "       [1.2392051],\n",
       "       [1.2717876],\n",
       "       [1.3057301],\n",
       "       [1.3238564],\n",
       "       [1.3262519],\n",
       "       [1.3108463],\n",
       "       [1.2841575],\n",
       "       [1.2569288],\n",
       "       [1.2381097],\n",
       "       [1.2296138],\n",
       "       [1.2254374],\n",
       "       [1.2169021],\n",
       "       [1.2055318],\n",
       "       [1.1931484],\n",
       "       [1.1793107],\n",
       "       [1.1595087],\n",
       "       [1.1349514],\n",
       "       [1.122719 ],\n",
       "       [1.1286393],\n",
       "       [1.1478794],\n",
       "       [1.1725152],\n",
       "       [1.1979045],\n",
       "       [1.2140474],\n",
       "       [1.2295403],\n",
       "       [1.2466459],\n",
       "       [1.265527 ],\n",
       "       [1.2832649],\n",
       "       [1.2961397],\n",
       "       [1.2998939],\n",
       "       [1.2923741],\n",
       "       [1.2836161],\n",
       "       [1.2793341],\n",
       "       [1.2822247],\n",
       "       [1.2922968],\n",
       "       [1.3002017],\n",
       "       [1.3031309],\n",
       "       [1.3010359],\n",
       "       [1.2993684],\n",
       "       [1.295646 ],\n",
       "       [1.2875777],\n",
       "       [1.2824516],\n",
       "       [1.2886292],\n",
       "       [1.3039938],\n",
       "       [1.3279642],\n",
       "       [1.3582325],\n",
       "       [1.3821406],\n",
       "       [1.3906353],\n",
       "       [1.3835741],\n",
       "       [1.3664696],\n",
       "       [1.3517902],\n",
       "       [1.3441503],\n",
       "       [1.3436799],\n",
       "       [1.3461881],\n",
       "       [1.3499728],\n",
       "       [1.3526907],\n",
       "       [1.3498671],\n",
       "       [1.3449047],\n",
       "       [1.3401351],\n",
       "       [1.3380692],\n",
       "       [1.3391575],\n",
       "       [1.3433018],\n",
       "       [1.3538122],\n",
       "       [1.3704818],\n",
       "       [1.3927588],\n",
       "       [1.4154117],\n",
       "       [1.4306264],\n",
       "       [1.4360127],\n",
       "       [1.4408722],\n",
       "       [1.4519858],\n",
       "       [1.4681201],\n",
       "       [1.4831358],\n",
       "       [1.4929641],\n",
       "       [1.4965158],\n",
       "       [1.4982445],\n",
       "       [1.5056705],\n",
       "       [1.5200391],\n",
       "       [1.5312047],\n",
       "       [1.5321218],\n",
       "       [1.5215241],\n",
       "       [1.5010458],\n",
       "       [1.4754448],\n",
       "       [1.4517242],\n",
       "       [1.4390651],\n",
       "       [1.4397824],\n",
       "       [1.4515876],\n",
       "       [1.4711161],\n",
       "       [1.4909711],\n",
       "       [1.5057554],\n",
       "       [1.5122929],\n",
       "       [1.5127473],\n",
       "       [1.5103298],\n",
       "       [1.5102937],\n",
       "       [1.5141492],\n",
       "       [1.5218732],\n",
       "       [1.533326 ],\n",
       "       [1.5457958],\n",
       "       [1.5594745],\n",
       "       [1.5760963],\n",
       "       [1.5910147],\n",
       "       [1.6030314],\n",
       "       [1.6131576],\n",
       "       [1.6245754],\n",
       "       [1.6115692],\n",
       "       [1.570362 ],\n",
       "       [1.5126671],\n",
       "       [1.4596992],\n",
       "       [1.4233978],\n",
       "       [1.4026308],\n",
       "       [1.3927078],\n",
       "       [1.3893605],\n",
       "       [1.3906848],\n",
       "       [1.3877778],\n",
       "       [1.3772113],\n",
       "       [1.372139 ],\n",
       "       [1.3800787],\n",
       "       [1.3952401],\n",
       "       [1.4063873],\n",
       "       [1.412377 ],\n",
       "       [1.4147251],\n",
       "       [1.4126661],\n",
       "       [1.4058805],\n",
       "       [1.3966198],\n",
       "       [1.3834043],\n",
       "       [1.3686385],\n",
       "       [1.3520279],\n",
       "       [1.3206463],\n",
       "       [1.2814918],\n",
       "       [1.241503 ],\n",
       "       [1.2080699],\n",
       "       [1.1900127],\n",
       "       [1.1912466],\n",
       "       [1.2075498],\n",
       "       [1.231334 ],\n",
       "       [1.2582064],\n",
       "       [1.2829312],\n",
       "       [1.3036921],\n",
       "       [1.3216556],\n",
       "       [1.3361503],\n",
       "       [1.3483324],\n",
       "       [1.3602026],\n",
       "       [1.3697149],\n",
       "       [1.369009 ],\n",
       "       [1.3566105],\n",
       "       [1.3358816],\n",
       "       [1.313585 ],\n",
       "       [1.298379 ],\n",
       "       [1.2954938],\n",
       "       [1.3055105],\n",
       "       [1.3258678],\n",
       "       [1.3471293],\n",
       "       [1.3652933],\n",
       "       [1.3817443],\n",
       "       [1.3967948],\n",
       "       [1.4094183],\n",
       "       [1.4196373],\n",
       "       [1.4276001],\n",
       "       [1.431262 ],\n",
       "       [1.4305092],\n",
       "       [1.4227632],\n",
       "       [1.4116769],\n",
       "       [1.4024305],\n",
       "       [1.3950973],\n",
       "       [1.3883308],\n",
       "       [1.409065 ],\n",
       "       [1.4538608],\n",
       "       [1.5051353],\n",
       "       [1.546567 ],\n",
       "       [1.5693582],\n",
       "       [1.5705492],\n",
       "       [1.545819 ],\n",
       "       [1.50876  ],\n",
       "       [1.4723471],\n",
       "       [1.451356 ],\n",
       "       [1.4436328],\n",
       "       [1.4416072]], dtype=float32)"
      ]
     },
     "execution_count": 13,
     "metadata": {},
     "output_type": "execute_result"
    }
   ],
   "source": [
    "y_pred = model.predict(X_test)\n",
    "y_pred"
   ]
  },
  {
   "cell_type": "code",
   "execution_count": 14,
   "metadata": {
    "id": "IU8hN2uf1Zic"
   },
   "outputs": [],
   "source": [
    "predicted_price = sc.inverse_transform(y_pred)"
   ]
  },
  {
   "cell_type": "code",
   "execution_count": 15,
   "metadata": {
    "colab": {
     "base_uri": "https://localhost:8080/",
     "height": 472
    },
    "id": "EfH23mJ71Zic",
    "outputId": "501d598b-f399-4093-b9df-b4cd2dd278d5"
   },
   "outputs": [
    {
     "data": {
      "image/png": "[encoded data removed]",
      "text/plain": [
       "<Figure size 432x288 with 1 Axes>"
      ]
     },
     "metadata": {
      "needs_background": "light"
     },
     "output_type": "display_data"
    }
   ],
   "source": [
    "plt.plot(y_test, color = 'red', label = 'Actual Stock Price')\n",
    "plt.plot(predicted_price, color = 'green', label = 'Predicted Stock Price')\n",
    "plt.title('Google stock price prediction')\n",
    "plt.xlabel('Time')\n",
    "plt.ylabel('Stock Price')\n",
    "plt.legend()\n",
    "plt.show()"
   ]
  },
  {
   "cell_type": "code",
   "execution_count": null,
   "metadata": {},
   "outputs": [],
   "source": []
  },
  {
   "cell_type": "code",
   "execution_count": null,
   "metadata": {},
   "outputs": [],
   "source": []
  }
 ],
 "metadata": {
  "colab": {
   "provenance": []
  },
  "kernelspec": {
   "display_name": "Python 3 (ipykernel)",
   "language": "python",
   "name": "python3"
  },
  "language_info": {
   "codemirror_mode": {
    "name": "ipython",
    "version": 3
   },
   "file_extension": ".py",
   "mimetype": "text/x-python",
   "name": "python",
   "nbconvert_exporter": "python",
   "pygments_lexer": "ipython3",
   "version": "3.9.7"
  }
 },
 "nbformat": 4,
 "nbformat_minor": 1
}
